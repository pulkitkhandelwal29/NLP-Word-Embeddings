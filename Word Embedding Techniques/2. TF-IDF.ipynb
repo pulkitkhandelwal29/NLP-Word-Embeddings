{
 "cells": [
  {
   "cell_type": "code",
   "execution_count": 1,
   "metadata": {},
   "outputs": [],
   "source": [
    "import nltk"
   ]
  },
  {
   "cell_type": "code",
   "execution_count": 2,
   "metadata": {},
   "outputs": [],
   "source": [
    "paragraph = \"He was a man of dreams and ideas. He dreamt of making India one of the super-powers in the world. His idea of dreaming was really different. He emphasized that the dreams are not those which you see when you sleep but are those which never let you sleep. Undoubtedly, these are the precious words of wisdom. He always encouraged everyone to work hard and not think about the result. He believed, if you work hard, you will definitely get the result as well.Some countless efforts and contributions are made by Dr. Kalam for the sake of the nation. He was awarded by Bharat Ratna in the year 1997. But, the biggest grief is that we have no longer this beautiful amongst us. While delivering his speech at the Institute of Management, Shillong he got cardiac arrest and collapsed. Even after great efforts, he left us, making 27 July 2015 one of the saddest days in the history of India.At last, I would like to say even though he left us, he is still in our hearts as the inspiration and the motivation. His golden words and miraculous deeds will always be remembered. He was a man of high stature and value who taught us the way to transform our nation and we shall always be grateful to him.Much thank you to all of you. Have a great evening!\""
   ]
  },
  {
   "cell_type": "code",
   "execution_count": 3,
   "metadata": {},
   "outputs": [],
   "source": [
    "#Cleaning the text\n",
    "import re"
   ]
  },
  {
   "cell_type": "code",
   "execution_count": 4,
   "metadata": {},
   "outputs": [],
   "source": [
    "#StopWords\n",
    "from nltk.corpus import stopwords"
   ]
  },
  {
   "cell_type": "code",
   "execution_count": 5,
   "metadata": {},
   "outputs": [],
   "source": [
    "#Lemmatization\n",
    "from nltk.stem import WordNetLemmatizer"
   ]
  },
  {
   "cell_type": "code",
   "execution_count": 6,
   "metadata": {},
   "outputs": [],
   "source": [
    "lemmatizer = WordNetLemmatizer()"
   ]
  },
  {
   "cell_type": "code",
   "execution_count": 7,
   "metadata": {},
   "outputs": [],
   "source": [
    "sentences = nltk.sent_tokenize(paragraph)"
   ]
  },
  {
   "cell_type": "code",
   "execution_count": 8,
   "metadata": {},
   "outputs": [],
   "source": [
    "corpus=[]\n",
    "for i in range(len(sentences)):\n",
    "    #Removing all characters apart from a-zA-Z\n",
    "    words = re.sub('[^a-zA-Z]',' ',sentences[i])\n",
    "    words = words.lower()\n",
    "    words = words.split()\n",
    "    words = [lemmatizer.lemmatize(word) for word in words if word not in set(stopwords.words('english'))]\n",
    "    words = ' '.join(words)\n",
    "    \n",
    "    corpus.append(words)"
   ]
  },
  {
   "cell_type": "code",
   "execution_count": 9,
   "metadata": {},
   "outputs": [
    {
     "data": {
      "text/plain": [
       "['man dream idea',\n",
       " 'dreamt making india one super power world',\n",
       " 'idea dreaming really different',\n",
       " 'emphasized dream see sleep never let sleep',\n",
       " 'undoubtedly precious word wisdom',\n",
       " 'always encouraged everyone work hard think result',\n",
       " 'believed work hard definitely get result well countless effort contribution made dr kalam sake nation',\n",
       " 'awarded bharat ratna year',\n",
       " 'biggest grief longer beautiful amongst u',\n",
       " 'delivering speech institute management shillong got cardiac arrest collapsed',\n",
       " 'even great effort left u making july one saddest day history india last would like say even though left u still heart inspiration motivation',\n",
       " 'golden word miraculous deed always remembered',\n",
       " 'man high stature value taught u way transform nation shall always grateful much thank',\n",
       " 'great evening']"
      ]
     },
     "execution_count": 9,
     "metadata": {},
     "output_type": "execute_result"
    }
   ],
   "source": [
    "corpus"
   ]
  },
  {
   "cell_type": "markdown",
   "metadata": {},
   "source": [
    "### Creating the TF-IDF matrix"
   ]
  },
  {
   "cell_type": "code",
   "execution_count": 10,
   "metadata": {},
   "outputs": [],
   "source": [
    "from sklearn.feature_extraction.text import TfidfVectorizer"
   ]
  },
  {
   "cell_type": "code",
   "execution_count": 11,
   "metadata": {},
   "outputs": [],
   "source": [
    "tfidf = TfidfVectorizer()"
   ]
  },
  {
   "cell_type": "code",
   "execution_count": 12,
   "metadata": {},
   "outputs": [
    {
     "data": {
      "text/plain": [
       "array([[0.        , 0.        , 0.        , ..., 0.        , 0.        ,\n",
       "        0.        ],\n",
       "       [0.        , 0.        , 0.        , ..., 0.40008519, 0.        ,\n",
       "        0.        ],\n",
       "       [0.        , 0.        , 0.        , ..., 0.        , 0.        ,\n",
       "        0.        ],\n",
       "       ...,\n",
       "       [0.33318459, 0.        , 0.        , ..., 0.        , 0.        ,\n",
       "        0.        ],\n",
       "       [0.2214661 , 0.        , 0.        , ..., 0.        , 0.        ,\n",
       "        0.        ],\n",
       "       [0.        , 0.        , 0.        , ..., 0.        , 0.        ,\n",
       "        0.        ]])"
      ]
     },
     "execution_count": 12,
     "metadata": {},
     "output_type": "execute_result"
    }
   ],
   "source": [
    "x = tfidf.fit_transform(corpus).toarray()\n",
    "x"
   ]
  },
  {
   "cell_type": "code",
   "execution_count": 13,
   "metadata": {},
   "outputs": [
    {
     "data": {
      "text/plain": [
       "(14, 90)"
      ]
     },
     "execution_count": 13,
     "metadata": {},
     "output_type": "execute_result"
    }
   ],
   "source": [
    "x.shape\n",
    "#14 sentences, 90 words"
   ]
  }
 ],
 "metadata": {
  "kernelspec": {
   "display_name": "Python 3",
   "language": "python",
   "name": "python3"
  },
  "language_info": {
   "codemirror_mode": {
    "name": "ipython",
    "version": 3
   },
   "file_extension": ".py",
   "mimetype": "text/x-python",
   "name": "python",
   "nbconvert_exporter": "python",
   "pygments_lexer": "ipython3",
   "version": "3.8.5"
  }
 },
 "nbformat": 4,
 "nbformat_minor": 4
}
