{
 "cells": [
  {
   "cell_type": "code",
   "execution_count": 1,
   "metadata": {},
   "outputs": [],
   "source": [
    "import nltk\n",
    "import re"
   ]
  },
  {
   "cell_type": "code",
   "execution_count": 2,
   "metadata": {},
   "outputs": [],
   "source": [
    "paragraph = \"He was a man of dreams and ideas. He dreamt of making India one of the super-powers in the world. His idea of dreaming was really different. He emphasized that the dreams are not those which you see when you sleep but are those which never let you sleep. Undoubtedly, these are the precious words of wisdom. He always encouraged everyone to work hard and not think about the result. He believed, if you work hard, you will definitely get the result as well.Some countless efforts and contributions are made by Dr. Kalam for the sake of the nation. He was awarded by Bharat Ratna in the year 1997. But, the biggest grief is that we have no longer this beautiful amongst us. While delivering his speech at the Institute of Management, Shillong he got cardiac arrest and collapsed. Even after great efforts, he left us, making 27 July 2015 one of the saddest days in the history of India.At last, I would like to say even though he left us, he is still in our hearts as the inspiration and the motivation. His golden words and miraculous deeds will always be remembered. He was a man of high stature and value who taught us the way to transform our nation and we shall always be grateful to him.Much thank you to all of you. Have a great evening!\""
   ]
  },
  {
   "cell_type": "code",
   "execution_count": 3,
   "metadata": {},
   "outputs": [],
   "source": [
    "sentences = nltk.sent_tokenize(paragraph)"
   ]
  },
  {
   "cell_type": "code",
   "execution_count": 4,
   "metadata": {},
   "outputs": [],
   "source": [
    "#Lemmatization\n",
    "from nltk.stem import WordNetLemmatizer\n",
    "lemmatizer = WordNetLemmatizer()"
   ]
  },
  {
   "cell_type": "code",
   "execution_count": 5,
   "metadata": {},
   "outputs": [],
   "source": [
    "#StopWords\n",
    "from nltk.corpus import stopwords"
   ]
  },
  {
   "cell_type": "markdown",
   "metadata": {},
   "source": [
    "### Data Cleaning and Preprocessing"
   ]
  },
  {
   "cell_type": "code",
   "execution_count": 6,
   "metadata": {},
   "outputs": [],
   "source": [
    "corpus = []\n",
    "total_words = []\n",
    "for i in range(len(sentences)):\n",
    "    words = re.sub('[^a-zA-Z]',' ',sentences[i])\n",
    "    words = words.lower()\n",
    "    words = words.split()\n",
    "    \n",
    "    words = [lemmatizer.lemmatize(word) for word in words if word not in set(stopwords.words('english'))]\n",
    "    total_words.append(words)\n",
    "    words = ' '.join(words)\n",
    "    \n",
    "    corpus.append(words)"
   ]
  },
  {
   "cell_type": "code",
   "execution_count": 7,
   "metadata": {},
   "outputs": [
    {
     "data": {
      "text/plain": [
       "'He was a man of dreams and ideas.'"
      ]
     },
     "execution_count": 7,
     "metadata": {},
     "output_type": "execute_result"
    }
   ],
   "source": [
    "sentences[0]"
   ]
  },
  {
   "cell_type": "code",
   "execution_count": 8,
   "metadata": {},
   "outputs": [
    {
     "data": {
      "text/plain": [
       "['man dream idea',\n",
       " 'dreamt making india one super power world',\n",
       " 'idea dreaming really different',\n",
       " 'emphasized dream see sleep never let sleep',\n",
       " 'undoubtedly precious word wisdom',\n",
       " 'always encouraged everyone work hard think result',\n",
       " 'believed work hard definitely get result well countless effort contribution made dr kalam sake nation',\n",
       " 'awarded bharat ratna year',\n",
       " 'biggest grief longer beautiful amongst u',\n",
       " 'delivering speech institute management shillong got cardiac arrest collapsed',\n",
       " 'even great effort left u making july one saddest day history india last would like say even though left u still heart inspiration motivation',\n",
       " 'golden word miraculous deed always remembered',\n",
       " 'man high stature value taught u way transform nation shall always grateful much thank',\n",
       " 'great evening']"
      ]
     },
     "execution_count": 8,
     "metadata": {},
     "output_type": "execute_result"
    }
   ],
   "source": [
    "corpus"
   ]
  },
  {
   "cell_type": "code",
   "execution_count": 9,
   "metadata": {
    "scrolled": true
   },
   "outputs": [
    {
     "data": {
      "text/plain": [
       "[['man', 'dream', 'idea'],\n",
       " ['dreamt', 'making', 'india', 'one', 'super', 'power', 'world'],\n",
       " ['idea', 'dreaming', 'really', 'different'],\n",
       " ['emphasized', 'dream', 'see', 'sleep', 'never', 'let', 'sleep'],\n",
       " ['undoubtedly', 'precious', 'word', 'wisdom'],\n",
       " ['always', 'encouraged', 'everyone', 'work', 'hard', 'think', 'result'],\n",
       " ['believed',\n",
       "  'work',\n",
       "  'hard',\n",
       "  'definitely',\n",
       "  'get',\n",
       "  'result',\n",
       "  'well',\n",
       "  'countless',\n",
       "  'effort',\n",
       "  'contribution',\n",
       "  'made',\n",
       "  'dr',\n",
       "  'kalam',\n",
       "  'sake',\n",
       "  'nation'],\n",
       " ['awarded', 'bharat', 'ratna', 'year'],\n",
       " ['biggest', 'grief', 'longer', 'beautiful', 'amongst', 'u'],\n",
       " ['delivering',\n",
       "  'speech',\n",
       "  'institute',\n",
       "  'management',\n",
       "  'shillong',\n",
       "  'got',\n",
       "  'cardiac',\n",
       "  'arrest',\n",
       "  'collapsed'],\n",
       " ['even',\n",
       "  'great',\n",
       "  'effort',\n",
       "  'left',\n",
       "  'u',\n",
       "  'making',\n",
       "  'july',\n",
       "  'one',\n",
       "  'saddest',\n",
       "  'day',\n",
       "  'history',\n",
       "  'india',\n",
       "  'last',\n",
       "  'would',\n",
       "  'like',\n",
       "  'say',\n",
       "  'even',\n",
       "  'though',\n",
       "  'left',\n",
       "  'u',\n",
       "  'still',\n",
       "  'heart',\n",
       "  'inspiration',\n",
       "  'motivation'],\n",
       " ['golden', 'word', 'miraculous', 'deed', 'always', 'remembered'],\n",
       " ['man',\n",
       "  'high',\n",
       "  'stature',\n",
       "  'value',\n",
       "  'taught',\n",
       "  'u',\n",
       "  'way',\n",
       "  'transform',\n",
       "  'nation',\n",
       "  'shall',\n",
       "  'always',\n",
       "  'grateful',\n",
       "  'much',\n",
       "  'thank'],\n",
       " ['great', 'evening']]"
      ]
     },
     "execution_count": 9,
     "metadata": {},
     "output_type": "execute_result"
    }
   ],
   "source": [
    "#Creating words from sentences\n",
    "total_words"
   ]
  },
  {
   "cell_type": "markdown",
   "metadata": {},
   "source": [
    "### Word2Vec"
   ]
  },
  {
   "cell_type": "code",
   "execution_count": 10,
   "metadata": {},
   "outputs": [],
   "source": [
    "from gensim.models import Word2Vec"
   ]
  },
  {
   "cell_type": "code",
   "execution_count": 11,
   "metadata": {},
   "outputs": [],
   "source": [
    "#Training the Word2Vec model\n",
    "model = Word2Vec(total_words,min_count=1)\n",
    "\n",
    "#min_count specifies that atleast this much time word should be there in document"
   ]
  },
  {
   "cell_type": "code",
   "execution_count": 12,
   "metadata": {},
   "outputs": [
    {
     "data": {
      "text/plain": [
       "<gensim.models.word2vec.Word2Vec at 0x98c5d00>"
      ]
     },
     "execution_count": 12,
     "metadata": {},
     "output_type": "execute_result"
    }
   ],
   "source": [
    "model"
   ]
  },
  {
   "cell_type": "code",
   "execution_count": 13,
   "metadata": {},
   "outputs": [],
   "source": [
    "#Vocabulary find out by Word2Vec model\n",
    "vocab = model.wv.vocab"
   ]
  },
  {
   "cell_type": "code",
   "execution_count": 15,
   "metadata": {
    "scrolled": true
   },
   "outputs": [
    {
     "data": {
      "text/plain": [
       "{'man': <gensim.models.keyedvectors.Vocab at 0xfa2a160>,\n",
       " 'dream': <gensim.models.keyedvectors.Vocab at 0xfa2a1c0>,\n",
       " 'idea': <gensim.models.keyedvectors.Vocab at 0xfa2a250>,\n",
       " 'dreamt': <gensim.models.keyedvectors.Vocab at 0xfa2a2b0>,\n",
       " 'making': <gensim.models.keyedvectors.Vocab at 0xfa2a340>,\n",
       " 'india': <gensim.models.keyedvectors.Vocab at 0xfa2a3a0>,\n",
       " 'one': <gensim.models.keyedvectors.Vocab at 0xfa2a430>,\n",
       " 'super': <gensim.models.keyedvectors.Vocab at 0xfa2a490>,\n",
       " 'power': <gensim.models.keyedvectors.Vocab at 0xfa2a4f0>,\n",
       " 'world': <gensim.models.keyedvectors.Vocab at 0xfa2a550>,\n",
       " 'dreaming': <gensim.models.keyedvectors.Vocab at 0xfa2a5b0>,\n",
       " 'really': <gensim.models.keyedvectors.Vocab at 0xfa2a610>,\n",
       " 'different': <gensim.models.keyedvectors.Vocab at 0xfa2a670>,\n",
       " 'emphasized': <gensim.models.keyedvectors.Vocab at 0xfa2a6d0>,\n",
       " 'see': <gensim.models.keyedvectors.Vocab at 0xfa2a730>,\n",
       " 'sleep': <gensim.models.keyedvectors.Vocab at 0xfa2a790>,\n",
       " 'never': <gensim.models.keyedvectors.Vocab at 0xfa2a7f0>,\n",
       " 'let': <gensim.models.keyedvectors.Vocab at 0xfa2a220>,\n",
       " 'undoubtedly': <gensim.models.keyedvectors.Vocab at 0xfa2a880>,\n",
       " 'precious': <gensim.models.keyedvectors.Vocab at 0xfa2a2e0>,\n",
       " 'word': <gensim.models.keyedvectors.Vocab at 0xfa2a910>,\n",
       " 'wisdom': <gensim.models.keyedvectors.Vocab at 0xfa2a970>,\n",
       " 'always': <gensim.models.keyedvectors.Vocab at 0xfa2a9a0>,\n",
       " 'encouraged': <gensim.models.keyedvectors.Vocab at 0xfa2aa00>,\n",
       " 'everyone': <gensim.models.keyedvectors.Vocab at 0xfa2aa60>,\n",
       " 'work': <gensim.models.keyedvectors.Vocab at 0xfa2aac0>,\n",
       " 'hard': <gensim.models.keyedvectors.Vocab at 0xfa2ab20>,\n",
       " 'think': <gensim.models.keyedvectors.Vocab at 0xfa2ab80>,\n",
       " 'result': <gensim.models.keyedvectors.Vocab at 0xfa2abe0>,\n",
       " 'believed': <gensim.models.keyedvectors.Vocab at 0xfa2ac40>,\n",
       " 'definitely': <gensim.models.keyedvectors.Vocab at 0xfa2aca0>,\n",
       " 'get': <gensim.models.keyedvectors.Vocab at 0xfa2ad00>,\n",
       " 'well': <gensim.models.keyedvectors.Vocab at 0xfa2ad60>,\n",
       " 'countless': <gensim.models.keyedvectors.Vocab at 0xfa2adc0>,\n",
       " 'effort': <gensim.models.keyedvectors.Vocab at 0xfa2ae20>,\n",
       " 'contribution': <gensim.models.keyedvectors.Vocab at 0xfa2ae80>,\n",
       " 'made': <gensim.models.keyedvectors.Vocab at 0xfa2aee0>,\n",
       " 'dr': <gensim.models.keyedvectors.Vocab at 0xfa2af40>,\n",
       " 'kalam': <gensim.models.keyedvectors.Vocab at 0xfa2afa0>,\n",
       " 'sake': <gensim.models.keyedvectors.Vocab at 0xfa30040>,\n",
       " 'nation': <gensim.models.keyedvectors.Vocab at 0xfa300a0>,\n",
       " 'awarded': <gensim.models.keyedvectors.Vocab at 0xfa30100>,\n",
       " 'bharat': <gensim.models.keyedvectors.Vocab at 0xfa30160>,\n",
       " 'ratna': <gensim.models.keyedvectors.Vocab at 0xfa301c0>,\n",
       " 'year': <gensim.models.keyedvectors.Vocab at 0xfa30220>,\n",
       " 'biggest': <gensim.models.keyedvectors.Vocab at 0xfa30280>,\n",
       " 'grief': <gensim.models.keyedvectors.Vocab at 0xfa302e0>,\n",
       " 'longer': <gensim.models.keyedvectors.Vocab at 0xfa30340>,\n",
       " 'beautiful': <gensim.models.keyedvectors.Vocab at 0xfa303a0>,\n",
       " 'amongst': <gensim.models.keyedvectors.Vocab at 0xfa30400>,\n",
       " 'u': <gensim.models.keyedvectors.Vocab at 0xfa30460>,\n",
       " 'delivering': <gensim.models.keyedvectors.Vocab at 0xfa304c0>,\n",
       " 'speech': <gensim.models.keyedvectors.Vocab at 0xfa30520>,\n",
       " 'institute': <gensim.models.keyedvectors.Vocab at 0xfa30580>,\n",
       " 'management': <gensim.models.keyedvectors.Vocab at 0xfa305e0>,\n",
       " 'shillong': <gensim.models.keyedvectors.Vocab at 0xfa30640>,\n",
       " 'got': <gensim.models.keyedvectors.Vocab at 0xfa306a0>,\n",
       " 'cardiac': <gensim.models.keyedvectors.Vocab at 0xfa30700>,\n",
       " 'arrest': <gensim.models.keyedvectors.Vocab at 0xfa30760>,\n",
       " 'collapsed': <gensim.models.keyedvectors.Vocab at 0xfa307c0>,\n",
       " 'even': <gensim.models.keyedvectors.Vocab at 0xfa30820>,\n",
       " 'great': <gensim.models.keyedvectors.Vocab at 0xfa30880>,\n",
       " 'left': <gensim.models.keyedvectors.Vocab at 0xfa308e0>,\n",
       " 'july': <gensim.models.keyedvectors.Vocab at 0xfa30940>,\n",
       " 'saddest': <gensim.models.keyedvectors.Vocab at 0xfa309a0>,\n",
       " 'day': <gensim.models.keyedvectors.Vocab at 0xfa30a00>,\n",
       " 'history': <gensim.models.keyedvectors.Vocab at 0xfa30a60>,\n",
       " 'last': <gensim.models.keyedvectors.Vocab at 0xfa30ac0>,\n",
       " 'would': <gensim.models.keyedvectors.Vocab at 0xfa30b20>,\n",
       " 'like': <gensim.models.keyedvectors.Vocab at 0xfa30b80>,\n",
       " 'say': <gensim.models.keyedvectors.Vocab at 0xfa30be0>,\n",
       " 'though': <gensim.models.keyedvectors.Vocab at 0xfa30c40>,\n",
       " 'still': <gensim.models.keyedvectors.Vocab at 0xfa30ca0>,\n",
       " 'heart': <gensim.models.keyedvectors.Vocab at 0xfa30d00>,\n",
       " 'inspiration': <gensim.models.keyedvectors.Vocab at 0xfa30d60>,\n",
       " 'motivation': <gensim.models.keyedvectors.Vocab at 0xfa30dc0>,\n",
       " 'golden': <gensim.models.keyedvectors.Vocab at 0xfa30e20>,\n",
       " 'miraculous': <gensim.models.keyedvectors.Vocab at 0xfa30e80>,\n",
       " 'deed': <gensim.models.keyedvectors.Vocab at 0xfa30ee0>,\n",
       " 'remembered': <gensim.models.keyedvectors.Vocab at 0xfa30f40>,\n",
       " 'high': <gensim.models.keyedvectors.Vocab at 0xfa30fa0>,\n",
       " 'stature': <gensim.models.keyedvectors.Vocab at 0xfa32040>,\n",
       " 'value': <gensim.models.keyedvectors.Vocab at 0xfa320a0>,\n",
       " 'taught': <gensim.models.keyedvectors.Vocab at 0xfa32100>,\n",
       " 'way': <gensim.models.keyedvectors.Vocab at 0xfa32160>,\n",
       " 'transform': <gensim.models.keyedvectors.Vocab at 0xfa321c0>,\n",
       " 'shall': <gensim.models.keyedvectors.Vocab at 0xfa32220>,\n",
       " 'grateful': <gensim.models.keyedvectors.Vocab at 0xfa32280>,\n",
       " 'much': <gensim.models.keyedvectors.Vocab at 0xfa322e0>,\n",
       " 'thank': <gensim.models.keyedvectors.Vocab at 0xfa32340>,\n",
       " 'evening': <gensim.models.keyedvectors.Vocab at 0xfa323a0>}"
      ]
     },
     "execution_count": 15,
     "metadata": {},
     "output_type": "execute_result"
    }
   ],
   "source": [
    "vocab"
   ]
  },
  {
   "cell_type": "code",
   "execution_count": 17,
   "metadata": {},
   "outputs": [
    {
     "data": {
      "text/plain": [
       "array([-1.5122066e-03, -2.4522680e-03,  4.9132030e-03,  2.8770294e-03,\n",
       "        4.0399102e-03,  2.6084129e-03, -2.4068502e-03,  6.9862214e-04,\n",
       "       -1.0997050e-03,  5.7486241e-04, -7.8185456e-04,  3.9877696e-03,\n",
       "        2.0966358e-03, -4.5535276e-03, -2.7227278e-03, -2.1884704e-03,\n",
       "        2.1963434e-03,  5.1442866e-04,  3.0685950e-03,  1.0062567e-05,\n",
       "        1.5013732e-03,  2.1881468e-03, -1.8017874e-03,  2.8615955e-03,\n",
       "       -6.2097056e-04, -4.6969331e-03, -8.5751509e-04, -3.2657853e-03,\n",
       "       -6.6682114e-04,  1.0643397e-03,  2.1512641e-03, -6.4720953e-04,\n",
       "       -1.2172711e-03, -1.4656289e-03,  4.7147358e-03,  1.0525340e-03,\n",
       "        3.4479017e-03,  3.6461777e-03, -2.7765802e-03,  8.8698679e-04,\n",
       "       -2.7926783e-03, -2.7664582e-04, -2.0188144e-03,  1.3642089e-03,\n",
       "        2.2598498e-03,  5.0234410e-04, -2.3301821e-03,  1.7092116e-03,\n",
       "       -1.2727317e-03, -4.3389490e-03,  1.3021232e-03, -2.2764730e-04,\n",
       "        1.8851710e-03,  3.8023656e-03, -2.3256589e-04, -4.7667874e-03,\n",
       "       -2.2804558e-04,  2.0499921e-03, -4.7665605e-04, -2.3643733e-03,\n",
       "       -2.1266069e-03, -5.7296967e-04, -2.7916551e-04,  2.6469557e-03,\n",
       "        4.3115173e-03, -2.3189322e-03, -1.7967335e-03,  2.2385332e-03,\n",
       "       -1.7427999e-03,  3.1852473e-03, -4.1417787e-03,  2.0872839e-03,\n",
       "       -2.9773528e-03,  6.1909622e-04, -3.6219489e-03,  1.3343999e-03,\n",
       "       -3.8656059e-03,  2.6815343e-03, -3.2974631e-03,  4.6285396e-03,\n",
       "        3.8963405e-03, -1.0198145e-04, -1.4549164e-03, -5.9376768e-04,\n",
       "        2.2191631e-03, -1.7744860e-03,  3.1385778e-05, -2.1423709e-03,\n",
       "       -2.2946312e-03,  1.8976092e-03,  2.4300320e-03,  1.8976849e-03,\n",
       "        3.3197701e-03, -4.2843311e-03, -4.8118969e-03,  2.0194298e-03,\n",
       "       -3.4570377e-04,  8.0277026e-04, -2.8837509e-03, -2.2787752e-03],\n",
       "      dtype=float32)"
      ]
     },
     "execution_count": 17,
     "metadata": {},
     "output_type": "execute_result"
    }
   ],
   "source": [
    "#Finding word vectors of 100 dimension\n",
    "vector = model.wv['beautiful']\n",
    "vector"
   ]
  },
  {
   "cell_type": "code",
   "execution_count": 20,
   "metadata": {},
   "outputs": [
    {
     "data": {
      "text/plain": [
       "[('dr', 0.26416024565696716),\n",
       " ('speech', 0.20749793946743011),\n",
       " ('different', 0.19251716136932373),\n",
       " ('power', 0.16706866025924683),\n",
       " ('cardiac', 0.1628713458776474),\n",
       " ('work', 0.1628503054380417),\n",
       " ('shall', 0.14007070660591125),\n",
       " ('hard', 0.13562043011188507),\n",
       " ('inspiration', 0.12445071339607239),\n",
       " ('kalam', 0.12179221212863922)]"
      ]
     },
     "execution_count": 20,
     "metadata": {},
     "output_type": "execute_result"
    }
   ],
   "source": [
    "#Most similar word\n",
    "similar = model.wv.most_similar('beautiful')\n",
    "similar"
   ]
  }
 ],
 "metadata": {
  "kernelspec": {
   "display_name": "Python 3",
   "language": "python",
   "name": "python3"
  },
  "language_info": {
   "codemirror_mode": {
    "name": "ipython",
    "version": 3
   },
   "file_extension": ".py",
   "mimetype": "text/x-python",
   "name": "python",
   "nbconvert_exporter": "python",
   "pygments_lexer": "ipython3",
   "version": "3.8.5"
  }
 },
 "nbformat": 4,
 "nbformat_minor": 4
}
